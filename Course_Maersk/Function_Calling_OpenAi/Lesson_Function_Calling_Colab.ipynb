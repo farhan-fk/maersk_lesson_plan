{
 "cells": [
  {
   "cell_type": "markdown",
   "metadata": {
    "id": "header"
   },
   "source": [
    "# Function Calling in OpenAI - Maersk Edition\n",
    "## Learn Custom Tools and Function Calling\n",
    "\n",
    "### Why Function Calling?\n",
    "\n",
    "Models alone can't solve all problems. We need to give them tools:\n",
    "- **Web search tool** - Get latest information from the web\n",
    "- **Calculator tool** - Do mathematical calculations\n",
    "- **Calendar tool** - Manage schedules\n",
    "- **Custom business tools** - Access internal systems\n",
    "\n",
    "### How It Works:\n",
    "\n",
    "1. Define tool schema using JSON Schema\n",
    "2. Embed tool schema in the prompt\n",
    "3. Model decides when to call functions\n",
    "4. Execute functions and return results\n",
    "5. Model generates final response\n",
    "\n",
    "**Reference:** [OpenAI Function Calling Guide](https://platform.openai.com/docs/guides/function-calling)\n",
    "\n",
    "---"
   ]
  },
  {
   "cell_type": "markdown",
   "metadata": {
    "id": "setup"
   },
   "source": [
    "## Setup: Install Dependencies & Configure API Key\n",
    "\n",
    "**Choose ONE of the following methods:**\n",
    "\n",
    "### Method 1: Colab Secrets (Recommended)\n",
    "1. Click the key icon (🔑) in the left sidebar\n",
    "2. Add a secret named: `OPENAI_API_KEY`\n",
    "3. Paste your API key value\n",
    "\n",
    "### Method 2: Hardcoded (Quick Start)\n",
    "Directly set your API key in the code below (not recommended for production)"
   ]
  },
  {
   "cell_type": "code",
   "execution_count": null,
   "metadata": {
    "id": "install"
   },
   "outputs": [],
   "source": [
    "# Install required packages\n",
    "!pip install openai -q"
   ]
  },
  {
   "cell_type": "code",
   "execution_count": null,
   "metadata": {
    "id": "api_setup"
   },
   "outputs": [],
   "source": [
    "from openai import OpenAI\n",
    "import json\n",
    "import os\n",
    "\n",
    "# =====================================================\n",
    "# METHOD 1: HARDCODED API KEY (Uncomment to use)\n",
    "# =====================================================\n",
    "# OPENAI_API_KEY = \"sk-proj-your-api-key-here\"  # Replace with your actual API key\n",
    "# client = OpenAI(api_key=OPENAI_API_KEY)\n",
    "# print(\"✅ API Key loaded from hardcoded value\")\n",
    "\n",
    "# =====================================================\n",
    "# METHOD 2: COLAB SECRETS (Recommended)\n",
    "# =====================================================\n",
    "try:\n",
    "    from google.colab import userdata\n",
    "    OPENAI_API_KEY = userdata.get('OPENAI_API_KEY')\n",
    "    client = OpenAI(api_key=OPENAI_API_KEY)\n",
    "    print(\"✅ API Key loaded from Colab Secrets\")\n",
    "except:\n",
    "    # Fallback: Try environment variable\n",
    "    OPENAI_API_KEY = os.getenv('OPENAI_API_KEY')\n",
    "    if not OPENAI_API_KEY:\n",
    "        print(\"⚠️ WARNING: No API key found!\")\n",
    "        print(\"Please uncomment METHOD 1 above and add your API key, or use Colab Secrets\")\n",
    "        raise ValueError(\"OpenAI API key not configured\")\n",
    "    client = OpenAI(api_key=OPENAI_API_KEY)\n",
    "    print(\"✅ API Key loaded from environment variable\")\n",
    "\n",
    "print(\"\\n🎯 OpenAI Client Ready for Function Calling!\")"
   ]
  },
  {
   "cell_type": "markdown",
   "metadata": {
    "id": "lesson_intro"
   },
   "source": [
    "---\n",
    "# Lesson 1: Custom Tools and Function Calling\n",
    "\n",
    "## Step 1: Define Tool Schema\n",
    "\n",
    "We'll create a shipment tracking tool for Maersk containers."
   ]
  },
  {
   "cell_type": "code",
   "execution_count": null,
   "metadata": {
    "id": "tools_definition"
   },
   "outputs": [],
   "source": [
    "# 1. Define a list of callable tools for the model\n",
    "tools = [\n",
    "    {\n",
    "        \"type\": \"function\",\n",
    "        \"name\": \"get_shipment_status\",\n",
    "        \"description\": \"Get the current status and location of a shipment by container number.\",\n",
    "        \"parameters\": {\n",
    "            \"type\": \"object\",\n",
    "            \"properties\": {\n",
    "                \"container_number\": {\n",
    "                    \"type\": \"string\",\n",
    "                    \"description\": \"The container tracking number (e.g., MAEU1234567)\",\n",
    "                },\n",
    "            },\n",
    "            \"required\": [\"container_number\"],\n",
    "        },\n",
    "    },\n",
    "]\n",
    "\n",
    "print(\"✅ Tool schema defined\")\n",
    "print(\"\\n📋 Tool Details:\")\n",
    "print(json.dumps(tools[0], indent=2))"
   ]
  },
  {
   "cell_type": "markdown",
   "metadata": {
    "id": "function_def"
   },
   "source": [
    "## Step 2: Define the Actual Python Function\n",
    "\n",
    "This is the function that will be called when the model decides to use the tool."
   ]
  },
  {
   "cell_type": "code",
   "execution_count": null,
   "metadata": {
    "id": "function_implementation"
   },
   "outputs": [],
   "source": [
    "def get_shipment_status(container_number):\n",
    "    \"\"\"\n",
    "    Simulates fetching shipment status from a database.\n",
    "    In production, this would query your actual tracking system.\n",
    "    \"\"\"\n",
    "    # Mock database response\n",
    "    return f\"{container_number}: Your container is currently at Mumbai Port, scheduled to depart on 15th October.\"\n",
    "\n",
    "# Test the function\n",
    "test_result = get_shipment_status(\"MAEU1234567\")\n",
    "print(\"🧪 Function Test:\")\n",
    "print(test_result)"
   ]
  },
  {
   "cell_type": "markdown",
   "metadata": {
    "id": "first_call"
   },
   "source": [
    "## Step 3: First API Call - Model Decides to Use Tool\n",
    "\n",
    "We send the user's question to the model along with the tool definition."
   ]
  },
  {
   "cell_type": "code",
   "execution_count": null,
   "metadata": {
    "id": "first_api_call"
   },
   "outputs": [],
   "source": [
    "# Create the conversation history\n",
    "input_list = [\n",
    "    {\"role\": \"user\", \"content\": \"Where is my shipment? Container number is MAEU1234567.\"}\n",
    "]\n",
    "\n",
    "print(\"👤 User Question:\")\n",
    "print(input_list[0][\"content\"])\n",
    "print(\"\\n⏳ Sending to model with tool definitions...\\n\")\n",
    "\n",
    "# 2. Prompt the model with tools defined\n",
    "resp1 = client.responses.create(\n",
    "    model=\"gpt-5-nano\",\n",
    "    tools=tools,\n",
    "    input=input_list,\n",
    "    instructions=\"Use Tools if you find it necessary.\"\n",
    ")\n",
    "\n",
    "print(\"🤖 Model Response (First Call):\")\n",
    "print(f\"Response type: {type(resp1)}\")\n",
    "print(f\"Number of outputs: {len(resp1.output)}\")"
   ]
  },
  {
   "cell_type": "markdown",
   "metadata": {
    "id": "examine_response"
   },
   "source": [
    "## Step 4: Examine the Model's Tool Call\n",
    "\n",
    "Let's see what the model decided to do."
   ]
  },
  {
   "cell_type": "code",
   "execution_count": null,
   "metadata": {
    "id": "examine_tool_call"
   },
   "outputs": [],
   "source": [
    "# Examine the response\n",
    "print(\"🔍 Examining Model's Decision:\\n\")\n",
    "\n",
    "for item in resp1.output:\n",
    "    print(f\"Output type: {item.type}\")\n",
    "    \n",
    "    if item.type == \"function_call\":\n",
    "        print(f\"\\n✅ Model decided to call a function!\")\n",
    "        print(f\"  Function name: {item.name}\")\n",
    "        print(f\"  Call ID: {item.call_id}\")\n",
    "        print(f\"  Arguments: {item.arguments}\")\n",
    "        \n",
    "        # Parse the arguments\n",
    "        args = json.loads(item.arguments)\n",
    "        print(f\"\\n📦 Extracted container number: {args['container_number']}\")"
   ]
  },
  {
   "cell_type": "markdown",
   "metadata": {
    "id": "append_call"
   },
   "source": [
    "## Step 5: Append Model's Tool Call to Conversation\n",
    "\n",
    "We need to add the model's tool call decision to our conversation history."
   ]
  },
  {
   "cell_type": "code",
   "execution_count": null,
   "metadata": {
    "id": "append_function_call"
   },
   "outputs": [],
   "source": [
    "# Append model's structured tool call\n",
    "for item in resp1.output:\n",
    "    if item.type == \"function_call\":\n",
    "        input_list.append({\n",
    "            \"type\": \"function_call\",\n",
    "            \"call_id\": item.call_id,\n",
    "            \"name\": item.name,\n",
    "            \"arguments\": item.arguments\n",
    "        })\n",
    "\n",
    "print(\"✅ Tool call appended to conversation history\")\n",
    "print(f\"\\n📚 Conversation history now has {len(input_list)} items\")"
   ]
  },
  {
   "cell_type": "markdown",
   "metadata": {
    "id": "execute_function"
   },
   "source": [
    "## Step 6: Execute the Function and Append Result\n",
    "\n",
    "Now we actually call our Python function and add the result to the conversation."
   ]
  },
  {
   "cell_type": "code",
   "execution_count": null,
   "metadata": {
    "id": "execute_and_append"
   },
   "outputs": [],
   "source": [
    "# Execute the tool and append its output\n",
    "for item in resp1.output:\n",
    "    if item.type == \"function_call\" and item.name == \"get_shipment_status\":\n",
    "        print(\"⚙️ Executing function...\\n\")\n",
    "        \n",
    "        # Parse JSON arguments to dictionary\n",
    "        args = json.loads(item.arguments)\n",
    "        \n",
    "        # Extract the container number\n",
    "        container_number = args[\"container_number\"]\n",
    "        print(f\"📞 Calling: get_shipment_status('{container_number}')\")\n",
    "        \n",
    "        # Run the actual Python function\n",
    "        result = get_shipment_status(container_number)\n",
    "        print(f\"\\n📤 Function returned: {result}\")\n",
    "\n",
    "        # Append function result to conversation\n",
    "        input_list.append({\n",
    "            \"type\": \"function_call_output\",\n",
    "            \"call_id\": item.call_id,  # Must match the call_id from the function call\n",
    "            \"output\": result  # Plain string is fine\n",
    "        })\n",
    "\n",
    "print(f\"\\n✅ Function output appended to conversation\")\n",
    "print(f\"📚 Conversation history now has {len(input_list)} items\")"
   ]
  },
  {
   "cell_type": "markdown",
   "metadata": {
    "id": "final_response"
   },
   "source": [
    "## Step 7: Second API Call - Model Generates Final Answer\n",
    "\n",
    "Now we send everything back to the model so it can generate a user-friendly response."
   ]
  },
  {
   "cell_type": "code",
   "execution_count": null,
   "metadata": {
    "id": "second_api_call"
   },
   "outputs": [],
   "source": [
    "print(\"⏳ Sending function result back to model...\\n\")\n",
    "\n",
    "# Second API call - model gives final answer\n",
    "resp2 = client.responses.create(\n",
    "    model=\"gpt-5\",\n",
    "    instructions=\"Respond only with the shipment status returned by the tool. Do not add or modify anything.\",\n",
    "    tool_choice=\"none\",  # Ensures no further tool calling\n",
    "    input=input_list,\n",
    ")\n",
    "\n",
    "print(\"✅ Final Response Generated!\")\n",
    "print(\"=\"*60)"
   ]
  },
  {
   "cell_type": "markdown",
   "metadata": {
    "id": "display_final"
   },
   "source": [
    "## Step 8: Display Final Result"
   ]
  },
  {
   "cell_type": "code",
   "execution_count": null,
   "metadata": {
    "id": "display_result"
   },
   "outputs": [],
   "source": [
    "print(\"\\n\" + \"=\"*60)\n",
    "print(\"FINAL OUTPUT TO USER\")\n",
    "print(\"=\"*60)\n",
    "print(resp2.output_text)\n",
    "print(\"=\"*60)"
   ]
  },
  {
   "cell_type": "markdown",
   "metadata": {
    "id": "view_full_response"
   },
   "source": [
    "## Optional: View Full Response JSON\n",
    "\n",
    "For debugging, you can examine the complete response structure."
   ]
  },
  {
   "cell_type": "code",
   "execution_count": null,
   "metadata": {
    "id": "full_json"
   },
   "outputs": [],
   "source": [
    "print(\"🔍 Full Response JSON (for debugging):\")\n",
    "print(resp2.model_dump_json(indent=2))"
   ]
  },
  {
   "cell_type": "markdown",
   "metadata": {
    "id": "conversation_flow"
   },
   "source": [
    "---\n",
    "## Understanding the Flow\n",
    "\n",
    "Let's visualize what happened in our conversation:"
   ]
  },
  {
   "cell_type": "code",
   "execution_count": null,
   "metadata": {
    "id": "show_flow"
   },
   "outputs": [],
   "source": [
    "print(\"\\n📊 Complete Conversation Flow:\\n\")\n",
    "print(\"=\"*60)\n",
    "\n",
    "for idx, item in enumerate(input_list, 1):\n",
    "    print(f\"\\nStep {idx}:\")\n",
    "    \n",
    "    if isinstance(item, dict):\n",
    "        if \"role\" in item:\n",
    "            print(f\"  Role: {item['role']}\")\n",
    "            print(f\"  Content: {item['content'][:100]}...\" if len(item.get('content', '')) > 100 else f\"  Content: {item.get('content')}\")\n",
    "        elif \"type\" in item:\n",
    "            print(f\"  Type: {item['type']}\")\n",
    "            if item['type'] == 'function_call':\n",
    "                print(f\"  Function: {item['name']}\")\n",
    "                print(f\"  Arguments: {item['arguments']}\")\n",
    "            elif item['type'] == 'function_call_output':\n",
    "                print(f\"  Output: {item['output'][:100]}...\" if len(item['output']) > 100 else f\"  Output: {item['output']}\")\n",
    "\n",
    "print(\"\\n\" + \"=\"*60)"
   ]
  },
  {
   "cell_type": "markdown",
   "metadata": {
    "id": "exercise"
   },
   "source": [
    "---\n",
    "## Exercise: Create Your Own Function\n",
    "\n",
    "Try creating a new function for checking port schedules!"
   ]
  },
  {
   "cell_type": "code",
   "execution_count": null,
   "metadata": {
    "id": "exercise_template"
   },
   "outputs": [],
   "source": [
    "# TODO: Define a new tool for checking port schedules\n",
    "port_schedule_tools = [\n",
    "    {\n",
    "        \"type\": \"function\",\n",
    "        \"name\": \"get_port_schedule\",\n",
    "        \"description\": \"Get the departure and arrival schedule for a specific port.\",\n",
    "        \"parameters\": {\n",
    "            \"type\": \"object\",\n",
    "            \"properties\": {\n",
    "                \"port_name\": {\n",
    "                    \"type\": \"string\",\n",
    "                    \"description\": \"The name of the port (e.g., Mumbai, Rotterdam)\",\n",
    "                },\n",
    "            },\n",
    "            \"required\": [\"port_name\"],\n",
    "        },\n",
    "    },\n",
    "]\n",
    "\n",
    "# TODO: Implement the function\n",
    "def get_port_schedule(port_name):\n",
    "    # Add your implementation here\n",
    "    schedules = {\n",
    "        \"Mumbai\": \"Next departure: 18th October at 14:00 hrs. Next arrival: 16th October at 09:30 hrs.\",\n",
    "        \"Rotterdam\": \"Next departure: 20th October at 08:00 hrs. Next arrival: 19th October at 16:00 hrs.\",\n",
    "    }\n",
    "    return schedules.get(port_name, f\"No schedule information available for {port_name}\")\n",
    "\n",
    "# TODO: Test your function\n",
    "print(\"🧪 Testing port schedule function:\")\n",
    "print(get_port_schedule(\"Mumbai\"))"
   ]
  },
  {
   "cell_type": "markdown",
   "metadata": {
    "id": "summary"
   },
   "source": [
    "---\n",
    "## Summary\n",
    "\n",
    "### What You Learned:\n",
    "\n",
    "1. ✅ **Tool Schema Definition** - How to define function schemas using JSON\n",
    "2. ✅ **Function Implementation** - Creating Python functions that can be called\n",
    "3. ✅ **Two-Step Process**:\n",
    "   - First API call: Model decides to use tool\n",
    "   - Execute function and get result\n",
    "   - Second API call: Model generates user-friendly response\n",
    "4. ✅ **Conversation Management** - Maintaining conversation history with tool calls\n",
    "\n",
    "### Key Concepts:\n",
    "\n",
    "- **tools**: Array of function definitions following OpenAI's schema\n",
    "- **function_call**: Model's decision to call a function\n",
    "- **function_call_output**: The result returned by your function\n",
    "- **tool_choice**: Control whether model can call tools (`\"auto\"`, `\"none\"`, or specific function)\n",
    "\n",
    "### Next Steps:\n",
    "\n",
    "- Try adding multiple tools\n",
    "- Implement real database queries\n",
    "- Add error handling for function calls\n",
    "- Combine function calling with RAG (Retrieval Augmented Generation)\n",
    "\n",
    "### Resources:\n",
    "\n",
    "- [OpenAI Function Calling Guide](https://platform.openai.com/docs/guides/function-calling)\n",
    "- [OpenAI API Reference](https://platform.openai.com/docs/api-reference)\n",
    "- [JSON Schema Documentation](https://json-schema.org/)\n",
    "\n",
    "---\n",
    "\n",
    "**Happy Coding! 🚢**"
   ]
  }
 ],
 "metadata": {
  "colab": {
   "provenance": [],
   "name": "Function Calling - OpenAI & Maersk"
  },
  "kernelspec": {
   "display_name": "Python 3",
   "name": "python3"
  },
  "language_info": {
   "name": "python"
  }
 },
 "nbformat": 4,
 "nbformat_minor": 0
}
