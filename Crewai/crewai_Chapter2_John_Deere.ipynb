{
 "cells": [
  {
   "cell_type": "markdown",
   "metadata": {
    "id": "0ffBLFuWFgaR"
   },
   "source": [
    "**Multi Agent Customer Support Agent**\n",
    "Here, Customer support agent will take user query, collect answers through some website information, and will serve user query, the answer will be sent to quality assurance agent and this agent, depending upon the quality will either approve and send back to previous sustomer support agent...We will also introduce tool which agent can use to solve user queries.... In thsi lesson we will learn about crew ai suggested prompting technique like role, goal, backstory, co-ordination and information exchange between agents, concepts of memory and guardrails to be followed"
   ]
  },
  {
   "cell_type": "code",
   "execution_count": 1,
   "metadata": {
    "colab": {
     "base_uri": "https://localhost:8080/"
    },
    "executionInfo": {
     "elapsed": 11230,
     "status": "ok",
     "timestamp": 1755672141090,
     "user": {
      "displayName": "Farhan Khan",
      "userId": "15469157280639804773"
     },
     "user_tz": -330
    },
    "id": "JqbO_j9oFM1n",
    "outputId": "2597d4c6-69a6-402b-f601-6356d846747e"
   },
   "outputs": [
    {
     "name": "stdout",
     "output_type": "stream",
     "text": [
      "Requirement already satisfied: crewai==0.28.8 in c:\\users\\ffarh\\appdata\\local\\programs\\python\\python311\\lib\\site-packages (0.28.8)\n",
      "Requirement already satisfied: crewai_tools==0.1.6 in c:\\users\\ffarh\\appdata\\local\\programs\\python\\python311\\lib\\site-packages (0.1.6)\n",
      "Requirement already satisfied: langchain_community==0.0.29 in c:\\users\\ffarh\\appdata\\local\\programs\\python\\python311\\lib\\site-packages (0.0.29)\n",
      "Requirement already satisfied: appdirs<2.0.0,>=1.4.4 in c:\\users\\ffarh\\appdata\\local\\programs\\python\\python311\\lib\\site-packages (from crewai==0.28.8) (1.4.4)\n",
      "Requirement already satisfied: click<9.0.0,>=8.1.7 in c:\\users\\ffarh\\appdata\\local\\programs\\python\\python311\\lib\\site-packages (from crewai==0.28.8) (8.1.7)\n",
      "Requirement already satisfied: embedchain<0.2.0,>=0.1.98 in c:\\users\\ffarh\\appdata\\local\\programs\\python\\python311\\lib\\site-packages (from crewai==0.28.8) (0.1.113)\n",
      "Requirement already satisfied: instructor<0.6.0,>=0.5.2 in c:\\users\\ffarh\\appdata\\local\\programs\\python\\python311\\lib\\site-packages (from crewai==0.28.8) (0.5.2)\n",
      "Requirement already satisfied: langchain<0.2.0,>=0.1.10 in c:\\users\\ffarh\\appdata\\local\\programs\\python\\python311\\lib\\site-packages (from crewai==0.28.8) (0.1.13)\n",
      "Requirement already satisfied: openai<2.0.0,>=1.13.3 in c:\\users\\ffarh\\appdata\\local\\programs\\python\\python311\\lib\\site-packages (from crewai==0.28.8) (1.108.0)\n",
      "Requirement already satisfied: opentelemetry-api<2.0.0,>=1.22.0 in c:\\users\\ffarh\\appdata\\local\\programs\\python\\python311\\lib\\site-packages (from crewai==0.28.8) (1.37.0)\n",
      "Requirement already satisfied: opentelemetry-exporter-otlp-proto-http<2.0.0,>=1.22.0 in c:\\users\\ffarh\\appdata\\local\\programs\\python\\python311\\lib\\site-packages (from crewai==0.28.8) (1.37.0)\n",
      "Requirement already satisfied: opentelemetry-sdk<2.0.0,>=1.22.0 in c:\\users\\ffarh\\appdata\\local\\programs\\python\\python311\\lib\\site-packages (from crewai==0.28.8) (1.37.0)\n",
      "Requirement already satisfied: pydantic<3.0.0,>=2.4.2 in c:\\users\\ffarh\\appdata\\local\\programs\\python\\python311\\lib\\site-packages (from crewai==0.28.8) (2.11.7)\n",
      "Requirement already satisfied: python-dotenv==1.0.0 in c:\\users\\ffarh\\appdata\\local\\programs\\python\\python311\\lib\\site-packages (from crewai==0.28.8) (1.0.0)\n",
      "Requirement already satisfied: regex<2024.0.0,>=2023.12.25 in c:\\users\\ffarh\\appdata\\local\\programs\\python\\python311\\lib\\site-packages (from crewai==0.28.8) (2023.12.25)\n",
      "Requirement already satisfied: beautifulsoup4<5.0.0,>=4.12.3 in c:\\users\\ffarh\\appdata\\local\\programs\\python\\python311\\lib\\site-packages (from crewai_tools==0.1.6) (4.13.5)\n",
      "Requirement already satisfied: chromadb<0.5.0,>=0.4.22 in c:\\users\\ffarh\\appdata\\local\\programs\\python\\python311\\lib\\site-packages (from crewai_tools==0.1.6) (0.4.24)\n",
      "Requirement already satisfied: lancedb<0.6.0,>=0.5.4 in c:\\users\\ffarh\\appdata\\local\\programs\\python\\python311\\lib\\site-packages (from crewai_tools==0.1.6) (0.5.7)\n",
      "Requirement already satisfied: pyright<2.0.0,>=1.1.350 in c:\\users\\ffarh\\appdata\\local\\programs\\python\\python311\\lib\\site-packages (from crewai_tools==0.1.6) (1.1.405)\n",
      "Requirement already satisfied: pytest<9.0.0,>=8.0.0 in c:\\users\\ffarh\\appdata\\local\\programs\\python\\python311\\lib\\site-packages (from crewai_tools==0.1.6) (8.4.2)\n",
      "Requirement already satisfied: pytube<16.0.0,>=15.0.0 in c:\\users\\ffarh\\appdata\\local\\programs\\python\\python311\\lib\\site-packages (from crewai_tools==0.1.6) (15.0.0)\n",
      "Requirement already satisfied: requests<3.0.0,>=2.31.0 in c:\\users\\ffarh\\appdata\\local\\programs\\python\\python311\\lib\\site-packages (from crewai_tools==0.1.6) (2.32.4)\n",
      "Requirement already satisfied: selenium<5.0.0,>=4.18.1 in c:\\users\\ffarh\\appdata\\local\\programs\\python\\python311\\lib\\site-packages (from crewai_tools==0.1.6) (4.35.0)\n",
      "Requirement already satisfied: PyYAML>=5.3 in c:\\users\\ffarh\\appdata\\local\\programs\\python\\python311\\lib\\site-packages (from langchain_community==0.0.29) (6.0.2)\n",
      "Requirement already satisfied: SQLAlchemy<3,>=1.4 in c:\\users\\ffarh\\appdata\\local\\programs\\python\\python311\\lib\\site-packages (from langchain_community==0.0.29) (2.0.43)\n",
      "Requirement already satisfied: aiohttp<4.0.0,>=3.8.3 in c:\\users\\ffarh\\appdata\\local\\programs\\python\\python311\\lib\\site-packages (from langchain_community==0.0.29) (3.12.15)\n",
      "Requirement already satisfied: dataclasses-json<0.7,>=0.5.7 in c:\\users\\ffarh\\appdata\\local\\programs\\python\\python311\\lib\\site-packages (from langchain_community==0.0.29) (0.6.7)\n",
      "Requirement already satisfied: langchain-core<0.2.0,>=0.1.33 in c:\\users\\ffarh\\appdata\\local\\programs\\python\\python311\\lib\\site-packages (from langchain_community==0.0.29) (0.1.53)\n",
      "Requirement already satisfied: langsmith<0.2.0,>=0.1.0 in c:\\users\\ffarh\\appdata\\local\\programs\\python\\python311\\lib\\site-packages (from langchain_community==0.0.29) (0.1.147)\n",
      "Collecting numpy<2,>=1\n",
      "  Using cached numpy-1.26.4-cp311-cp311-win_amd64.whl (15.8 MB)\n",
      "Requirement already satisfied: tenacity<9.0.0,>=8.1.0 in c:\\users\\ffarh\\appdata\\local\\programs\\python\\python311\\lib\\site-packages (from langchain_community==0.0.29) (8.5.0)\n",
      "Requirement already satisfied: aiohappyeyeballs>=2.5.0 in c:\\users\\ffarh\\appdata\\local\\programs\\python\\python311\\lib\\site-packages (from aiohttp<4.0.0,>=3.8.3->langchain_community==0.0.29) (2.6.1)\n",
      "Requirement already satisfied: aiosignal>=1.4.0 in c:\\users\\ffarh\\appdata\\local\\programs\\python\\python311\\lib\\site-packages (from aiohttp<4.0.0,>=3.8.3->langchain_community==0.0.29) (1.4.0)\n",
      "Requirement already satisfied: attrs>=17.3.0 in c:\\users\\ffarh\\appdata\\local\\programs\\python\\python311\\lib\\site-packages (from aiohttp<4.0.0,>=3.8.3->langchain_community==0.0.29) (25.3.0)\n",
      "Requirement already satisfied: frozenlist>=1.1.1 in c:\\users\\ffarh\\appdata\\local\\programs\\python\\python311\\lib\\site-packages (from aiohttp<4.0.0,>=3.8.3->langchain_community==0.0.29) (1.7.0)\n",
      "Requirement already satisfied: multidict<7.0,>=4.5 in c:\\users\\ffarh\\appdata\\local\\programs\\python\\python311\\lib\\site-packages (from aiohttp<4.0.0,>=3.8.3->langchain_community==0.0.29) (6.6.4)\n",
      "Requirement already satisfied: propcache>=0.2.0 in c:\\users\\ffarh\\appdata\\local\\programs\\python\\python311\\lib\\site-packages (from aiohttp<4.0.0,>=3.8.3->langchain_community==0.0.29) (0.3.2)\n",
      "Requirement already satisfied: yarl<2.0,>=1.17.0 in c:\\users\\ffarh\\appdata\\local\\programs\\python\\python311\\lib\\site-packages (from aiohttp<4.0.0,>=3.8.3->langchain_community==0.0.29) (1.20.1)\n",
      "Requirement already satisfied: soupsieve>1.2 in c:\\users\\ffarh\\appdata\\local\\programs\\python\\python311\\lib\\site-packages (from beautifulsoup4<5.0.0,>=4.12.3->crewai_tools==0.1.6) (2.8)\n",
      "Requirement already satisfied: typing-extensions>=4.0.0 in c:\\users\\ffarh\\appdata\\roaming\\python\\python311\\site-packages (from beautifulsoup4<5.0.0,>=4.12.3->crewai_tools==0.1.6) (4.14.1)\n",
      "Requirement already satisfied: build>=1.0.3 in c:\\users\\ffarh\\appdata\\local\\programs\\python\\python311\\lib\\site-packages (from chromadb<0.5.0,>=0.4.22->crewai_tools==0.1.6) (1.3.0)\n",
      "Requirement already satisfied: chroma-hnswlib==0.7.3 in c:\\users\\ffarh\\appdata\\local\\programs\\python\\python311\\lib\\site-packages (from chromadb<0.5.0,>=0.4.22->crewai_tools==0.1.6) (0.7.3)\n",
      "Requirement already satisfied: fastapi>=0.95.2 in c:\\users\\ffarh\\appdata\\local\\programs\\python\\python311\\lib\\site-packages (from chromadb<0.5.0,>=0.4.22->crewai_tools==0.1.6) (0.116.1)\n",
      "Requirement already satisfied: uvicorn[standard]>=0.18.3 in c:\\users\\ffarh\\appdata\\local\\programs\\python\\python311\\lib\\site-packages (from chromadb<0.5.0,>=0.4.22->crewai_tools==0.1.6) (0.35.0)\n",
      "Requirement already satisfied: posthog>=2.4.0 in c:\\users\\ffarh\\appdata\\local\\programs\\python\\python311\\lib\\site-packages (from chromadb<0.5.0,>=0.4.22->crewai_tools==0.1.6) (3.25.0)\n",
      "Requirement already satisfied: pulsar-client>=3.1.0 in c:\\users\\ffarh\\appdata\\local\\programs\\python\\python311\\lib\\site-packages (from chromadb<0.5.0,>=0.4.22->crewai_tools==0.1.6) (3.8.0)\n",
      "Requirement already satisfied: onnxruntime>=1.14.1 in c:\\users\\ffarh\\appdata\\local\\programs\\python\\python311\\lib\\site-packages (from chromadb<0.5.0,>=0.4.22->crewai_tools==0.1.6) (1.22.0)\n",
      "Requirement already satisfied: opentelemetry-exporter-otlp-proto-grpc>=1.2.0 in c:\\users\\ffarh\\appdata\\local\\programs\\python\\python311\\lib\\site-packages (from chromadb<0.5.0,>=0.4.22->crewai_tools==0.1.6) (1.37.0)\n",
      "Requirement already satisfied: opentelemetry-instrumentation-fastapi>=0.41b0 in c:\\users\\ffarh\\appdata\\local\\programs\\python\\python311\\lib\\site-packages (from chromadb<0.5.0,>=0.4.22->crewai_tools==0.1.6) (0.58b0)\n",
      "Requirement already satisfied: tokenizers>=0.13.2 in c:\\users\\ffarh\\appdata\\local\\programs\\python\\python311\\lib\\site-packages (from chromadb<0.5.0,>=0.4.22->crewai_tools==0.1.6) (0.22.0)\n",
      "Requirement already satisfied: pypika>=0.48.9 in c:\\users\\ffarh\\appdata\\local\\programs\\python\\python311\\lib\\site-packages (from chromadb<0.5.0,>=0.4.22->crewai_tools==0.1.6) (0.48.9)\n",
      "Requirement already satisfied: tqdm>=4.65.0 in c:\\users\\ffarh\\appdata\\local\\programs\\python\\python311\\lib\\site-packages (from chromadb<0.5.0,>=0.4.22->crewai_tools==0.1.6) (4.67.1)\n",
      "Requirement already satisfied: overrides>=7.3.1 in c:\\users\\ffarh\\appdata\\local\\programs\\python\\python311\\lib\\site-packages (from chromadb<0.5.0,>=0.4.22->crewai_tools==0.1.6) (7.7.0)\n",
      "Requirement already satisfied: importlib-resources in c:\\users\\ffarh\\appdata\\local\\programs\\python\\python311\\lib\\site-packages (from chromadb<0.5.0,>=0.4.22->crewai_tools==0.1.6) (6.5.2)\n",
      "Requirement already satisfied: grpcio>=1.58.0 in c:\\users\\ffarh\\appdata\\local\\programs\\python\\python311\\lib\\site-packages (from chromadb<0.5.0,>=0.4.22->crewai_tools==0.1.6) (1.75.0)\n",
      "Requirement already satisfied: bcrypt>=4.0.1 in c:\\users\\ffarh\\appdata\\local\\programs\\python\\python311\\lib\\site-packages (from chromadb<0.5.0,>=0.4.22->crewai_tools==0.1.6) (4.3.0)\n",
      "Requirement already satisfied: typer>=0.9.0 in c:\\users\\ffarh\\appdata\\local\\programs\\python\\python311\\lib\\site-packages (from chromadb<0.5.0,>=0.4.22->crewai_tools==0.1.6) (0.9.4)\n",
      "Requirement already satisfied: kubernetes>=28.1.0 in c:\\users\\ffarh\\appdata\\local\\programs\\python\\python311\\lib\\site-packages (from chromadb<0.5.0,>=0.4.22->crewai_tools==0.1.6) (33.1.0)\n",
      "Requirement already satisfied: mmh3>=4.0.1 in c:\\users\\ffarh\\appdata\\local\\programs\\python\\python311\\lib\\site-packages (from chromadb<0.5.0,>=0.4.22->crewai_tools==0.1.6) (5.2.0)\n",
      "Requirement already satisfied: orjson>=3.9.12 in c:\\users\\ffarh\\appdata\\local\\programs\\python\\python311\\lib\\site-packages (from chromadb<0.5.0,>=0.4.22->crewai_tools==0.1.6) (3.11.1)\n",
      "Requirement already satisfied: colorama in c:\\users\\ffarh\\appdata\\roaming\\python\\python311\\site-packages (from click<9.0.0,>=8.1.7->crewai==0.28.8) (0.4.6)\n",
      "Requirement already satisfied: marshmallow<4.0.0,>=3.18.0 in c:\\users\\ffarh\\appdata\\local\\programs\\python\\python311\\lib\\site-packages (from dataclasses-json<0.7,>=0.5.7->langchain_community==0.0.29) (3.26.1)\n",
      "Requirement already satisfied: typing-inspect<1,>=0.4.0 in c:\\users\\ffarh\\appdata\\local\\programs\\python\\python311\\lib\\site-packages (from dataclasses-json<0.7,>=0.5.7->langchain_community==0.0.29) (0.9.0)\n",
      "Requirement already satisfied: alembic<2.0.0,>=1.13.1 in c:\\users\\ffarh\\appdata\\local\\programs\\python\\python311\\lib\\site-packages (from embedchain<0.2.0,>=0.1.98->crewai==0.28.8) (1.16.5)\n",
      "Requirement already satisfied: clarifai<11.0.0,>=10.0.1 in c:\\users\\ffarh\\appdata\\local\\programs\\python\\python311\\lib\\site-packages (from embedchain<0.2.0,>=0.1.98->crewai==0.28.8) (10.11.1)\n",
      "Requirement already satisfied: google-cloud-aiplatform<2.0.0,>=1.26.1 in c:\\users\\ffarh\\appdata\\local\\programs\\python\\python311\\lib\\site-packages (from embedchain<0.2.0,>=0.1.98->crewai==0.28.8) (1.114.0)\n",
      "Requirement already satisfied: gptcache<0.2.0,>=0.1.43 in c:\\users\\ffarh\\appdata\\local\\programs\\python\\python311\\lib\\site-packages (from embedchain<0.2.0,>=0.1.98->crewai==0.28.8) (0.1.44)\n",
      "Requirement already satisfied: langchain-cohere<0.2.0,>=0.1.4 in c:\\users\\ffarh\\appdata\\local\\programs\\python\\python311\\lib\\site-packages (from embedchain<0.2.0,>=0.1.98->crewai==0.28.8) (0.1.5)\n",
      "Requirement already satisfied: langchain-openai<0.2.0,>=0.1.7 in c:\\users\\ffarh\\appdata\\local\\programs\\python\\python311\\lib\\site-packages (from embedchain<0.2.0,>=0.1.98->crewai==0.28.8) (0.1.7)\n",
      "Requirement already satisfied: pypdf<5.0.0,>=4.0.1 in c:\\users\\ffarh\\appdata\\local\\programs\\python\\python311\\lib\\site-packages (from embedchain<0.2.0,>=0.1.98->crewai==0.28.8) (4.3.1)\n",
      "Requirement already satisfied: pysbd<0.4.0,>=0.3.4 in c:\\users\\ffarh\\appdata\\local\\programs\\python\\python311\\lib\\site-packages (from embedchain<0.2.0,>=0.1.98->crewai==0.28.8) (0.3.4)\n",
      "Requirement already satisfied: rich<14.0.0,>=13.7.0 in c:\\users\\ffarh\\appdata\\local\\programs\\python\\python311\\lib\\site-packages (from embedchain<0.2.0,>=0.1.98->crewai==0.28.8) (13.9.4)\n",
      "Requirement already satisfied: schema<0.8.0,>=0.7.5 in c:\\users\\ffarh\\appdata\\local\\programs\\python\\python311\\lib\\site-packages (from embedchain<0.2.0,>=0.1.98->crewai==0.28.8) (0.7.5)\n",
      "Requirement already satisfied: tiktoken<0.8.0,>=0.7.0 in c:\\users\\ffarh\\appdata\\local\\programs\\python\\python311\\lib\\site-packages (from embedchain<0.2.0,>=0.1.98->crewai==0.28.8) (0.7.0)\n",
      "Requirement already satisfied: PyGithub<2.0.0,>=1.59.1 in c:\\users\\ffarh\\appdata\\local\\programs\\python\\python311\\lib\\site-packages (from embedchain<0.2.0,>=0.1.98->crewai==0.28.8) (1.59.1)\n",
      "Requirement already satisfied: gitpython<4.0.0,>=3.1.38 in c:\\users\\ffarh\\appdata\\local\\programs\\python\\python311\\lib\\site-packages (from embedchain<0.2.0,>=0.1.98->crewai==0.28.8) (3.1.45)\n",
      "Requirement already satisfied: youtube-transcript-api<0.7.0,>=0.6.1 in c:\\users\\ffarh\\appdata\\local\\programs\\python\\python311\\lib\\site-packages (from embedchain<0.2.0,>=0.1.98->crewai==0.28.8) (0.6.3)\n",
      "Requirement already satisfied: yt_dlp<2024.0.0,>=2023.11.14 in c:\\users\\ffarh\\appdata\\local\\programs\\python\\python311\\lib\\site-packages (from embedchain<0.2.0,>=0.1.98->crewai==0.28.8) (2023.12.30)\n",
      "Requirement already satisfied: docstring-parser<0.16,>=0.15 in c:\\users\\ffarh\\appdata\\local\\programs\\python\\python311\\lib\\site-packages (from instructor<0.6.0,>=0.5.2->crewai==0.28.8) (0.15)\n",
      "Requirement already satisfied: deprecation in c:\\users\\ffarh\\appdata\\local\\programs\\python\\python311\\lib\\site-packages (from lancedb<0.6.0,>=0.5.4->crewai_tools==0.1.6) (2.1.0)\n",
      "Requirement already satisfied: pylance==0.9.18 in c:\\users\\ffarh\\appdata\\local\\programs\\python\\python311\\lib\\site-packages (from lancedb<0.6.0,>=0.5.4->crewai_tools==0.1.6) (0.9.18)\n",
      "Requirement already satisfied: ratelimiter~=1.0 in c:\\users\\ffarh\\appdata\\local\\programs\\python\\python311\\lib\\site-packages (from lancedb<0.6.0,>=0.5.4->crewai_tools==0.1.6) (1.2.0.post0)\n",
      "Requirement already satisfied: retry>=0.9.2 in c:\\users\\ffarh\\appdata\\local\\programs\\python\\python311\\lib\\site-packages (from lancedb<0.6.0,>=0.5.4->crewai_tools==0.1.6) (0.9.2)\n",
      "Requirement already satisfied: semver>=3.0 in c:\\users\\ffarh\\appdata\\local\\programs\\python\\python311\\lib\\site-packages (from lancedb<0.6.0,>=0.5.4->crewai_tools==0.1.6) (3.0.4)\n",
      "Requirement already satisfied: cachetools in c:\\users\\ffarh\\appdata\\local\\programs\\python\\python311\\lib\\site-packages (from lancedb<0.6.0,>=0.5.4->crewai_tools==0.1.6) (5.5.2)\n",
      "Requirement already satisfied: pyarrow>=12 in c:\\users\\ffarh\\appdata\\local\\programs\\python\\python311\\lib\\site-packages (from pylance==0.9.18->lancedb<0.6.0,>=0.5.4->crewai_tools==0.1.6) (21.0.0)\n",
      "Requirement already satisfied: jsonpatch<2.0,>=1.33 in c:\\users\\ffarh\\appdata\\local\\programs\\python\\python311\\lib\\site-packages (from langchain<0.2.0,>=0.1.10->crewai==0.28.8) (1.33)\n",
      "Requirement already satisfied: langchain-text-splitters<0.1,>=0.0.1 in c:\\users\\ffarh\\appdata\\local\\programs\\python\\python311\\lib\\site-packages (from langchain<0.2.0,>=0.1.10->crewai==0.28.8) (0.0.2)\n",
      "Requirement already satisfied: packaging<24.0,>=23.2 in c:\\users\\ffarh\\appdata\\local\\programs\\python\\python311\\lib\\site-packages (from langchain-core<0.2.0,>=0.1.33->langchain_community==0.0.29) (23.2)\n",
      "Requirement already satisfied: httpx<1,>=0.23.0 in c:\\users\\ffarh\\appdata\\local\\programs\\python\\python311\\lib\\site-packages (from langsmith<0.2.0,>=0.1.0->langchain_community==0.0.29) (0.28.1)\n",
      "Requirement already satisfied: requests-toolbelt<2.0.0,>=1.0.0 in c:\\users\\ffarh\\appdata\\local\\programs\\python\\python311\\lib\\site-packages (from langsmith<0.2.0,>=0.1.0->langchain_community==0.0.29) (1.0.0)\n",
      "Requirement already satisfied: anyio<5,>=3.5.0 in c:\\users\\ffarh\\appdata\\local\\programs\\python\\python311\\lib\\site-packages (from openai<2.0.0,>=1.13.3->crewai==0.28.8) (4.9.0)\n",
      "Requirement already satisfied: distro<2,>=1.7.0 in c:\\users\\ffarh\\appdata\\local\\programs\\python\\python311\\lib\\site-packages (from openai<2.0.0,>=1.13.3->crewai==0.28.8) (1.9.0)\n",
      "Requirement already satisfied: jiter<1,>=0.4.0 in c:\\users\\ffarh\\appdata\\local\\programs\\python\\python311\\lib\\site-packages (from openai<2.0.0,>=1.13.3->crewai==0.28.8) (0.10.0)\n",
      "Requirement already satisfied: sniffio in c:\\users\\ffarh\\appdata\\local\\programs\\python\\python311\\lib\\site-packages (from openai<2.0.0,>=1.13.3->crewai==0.28.8) (1.3.1)\n",
      "Requirement already satisfied: importlib-metadata<8.8.0,>=6.0 in c:\\users\\ffarh\\appdata\\local\\programs\\python\\python311\\lib\\site-packages (from opentelemetry-api<2.0.0,>=1.22.0->crewai==0.28.8) (8.7.0)\n",
      "Requirement already satisfied: googleapis-common-protos~=1.52 in c:\\users\\ffarh\\appdata\\local\\programs\\python\\python311\\lib\\site-packages (from opentelemetry-exporter-otlp-proto-http<2.0.0,>=1.22.0->crewai==0.28.8) (1.70.0)\n",
      "Requirement already satisfied: opentelemetry-exporter-otlp-proto-common==1.37.0 in c:\\users\\ffarh\\appdata\\local\\programs\\python\\python311\\lib\\site-packages (from opentelemetry-exporter-otlp-proto-http<2.0.0,>=1.22.0->crewai==0.28.8) (1.37.0)\n",
      "Requirement already satisfied: opentelemetry-proto==1.37.0 in c:\\users\\ffarh\\appdata\\local\\programs\\python\\python311\\lib\\site-packages (from opentelemetry-exporter-otlp-proto-http<2.0.0,>=1.22.0->crewai==0.28.8) (1.37.0)\n",
      "Requirement already satisfied: protobuf<7.0,>=5.0 in c:\\users\\ffarh\\appdata\\local\\programs\\python\\python311\\lib\\site-packages (from opentelemetry-proto==1.37.0->opentelemetry-exporter-otlp-proto-http<2.0.0,>=1.22.0->crewai==0.28.8) (6.32.1)\n",
      "Requirement already satisfied: opentelemetry-semantic-conventions==0.58b0 in c:\\users\\ffarh\\appdata\\local\\programs\\python\\python311\\lib\\site-packages (from opentelemetry-sdk<2.0.0,>=1.22.0->crewai==0.28.8) (0.58b0)\n",
      "Requirement already satisfied: annotated-types>=0.6.0 in c:\\users\\ffarh\\appdata\\local\\programs\\python\\python311\\lib\\site-packages (from pydantic<3.0.0,>=2.4.2->crewai==0.28.8) (0.7.0)\n",
      "Requirement already satisfied: pydantic-core==2.33.2 in c:\\users\\ffarh\\appdata\\local\\programs\\python\\python311\\lib\\site-packages (from pydantic<3.0.0,>=2.4.2->crewai==0.28.8) (2.33.2)\n",
      "Requirement already satisfied: typing-inspection>=0.4.0 in c:\\users\\ffarh\\appdata\\local\\programs\\python\\python311\\lib\\site-packages (from pydantic<3.0.0,>=2.4.2->crewai==0.28.8) (0.4.1)\n",
      "Requirement already satisfied: nodeenv>=1.6.0 in c:\\users\\ffarh\\appdata\\local\\programs\\python\\python311\\lib\\site-packages (from pyright<2.0.0,>=1.1.350->crewai_tools==0.1.6) (1.9.1)\n",
      "Requirement already satisfied: iniconfig>=1 in c:\\users\\ffarh\\appdata\\local\\programs\\python\\python311\\lib\\site-packages (from pytest<9.0.0,>=8.0.0->crewai_tools==0.1.6) (2.1.0)\n",
      "Requirement already satisfied: pluggy<2,>=1.5 in c:\\users\\ffarh\\appdata\\local\\programs\\python\\python311\\lib\\site-packages (from pytest<9.0.0,>=8.0.0->crewai_tools==0.1.6) (1.6.0)\n",
      "Requirement already satisfied: pygments>=2.7.2 in c:\\users\\ffarh\\appdata\\roaming\\python\\python311\\site-packages (from pytest<9.0.0,>=8.0.0->crewai_tools==0.1.6) (2.19.2)\n",
      "Requirement already satisfied: charset_normalizer<4,>=2 in c:\\users\\ffarh\\appdata\\local\\programs\\python\\python311\\lib\\site-packages (from requests<3.0.0,>=2.31.0->crewai_tools==0.1.6) (3.4.2)\n",
      "Requirement already satisfied: idna<4,>=2.5 in c:\\users\\ffarh\\appdata\\local\\programs\\python\\python311\\lib\\site-packages (from requests<3.0.0,>=2.31.0->crewai_tools==0.1.6) (3.10)\n",
      "Requirement already satisfied: urllib3<3,>=1.21.1 in c:\\users\\ffarh\\appdata\\local\\programs\\python\\python311\\lib\\site-packages (from requests<3.0.0,>=2.31.0->crewai_tools==0.1.6) (2.5.0)\n",
      "Requirement already satisfied: certifi>=2017.4.17 in c:\\users\\ffarh\\appdata\\local\\programs\\python\\python311\\lib\\site-packages (from requests<3.0.0,>=2.31.0->crewai_tools==0.1.6) (2025.7.14)\n",
      "Requirement already satisfied: trio~=0.30.0 in c:\\users\\ffarh\\appdata\\local\\programs\\python\\python311\\lib\\site-packages (from selenium<5.0.0,>=4.18.1->crewai_tools==0.1.6) (0.30.0)\n",
      "Requirement already satisfied: trio-websocket~=0.12.2 in c:\\users\\ffarh\\appdata\\local\\programs\\python\\python311\\lib\\site-packages (from selenium<5.0.0,>=4.18.1->crewai_tools==0.1.6) (0.12.2)\n",
      "Requirement already satisfied: websocket-client~=1.8.0 in c:\\users\\ffarh\\appdata\\local\\programs\\python\\python311\\lib\\site-packages (from selenium<5.0.0,>=4.18.1->crewai_tools==0.1.6) (1.8.0)\n",
      "Requirement already satisfied: greenlet>=1 in c:\\users\\ffarh\\appdata\\local\\programs\\python\\python311\\lib\\site-packages (from SQLAlchemy<3,>=1.4->langchain_community==0.0.29) (3.2.4)\n",
      "Requirement already satisfied: Mako in c:\\users\\ffarh\\appdata\\local\\programs\\python\\python311\\lib\\site-packages (from alembic<2.0.0,>=1.13.1->embedchain<0.2.0,>=0.1.98->crewai==0.28.8) (1.3.10)\n",
      "Requirement already satisfied: pyproject_hooks in c:\\users\\ffarh\\appdata\\local\\programs\\python\\python311\\lib\\site-packages (from build>=1.0.3->chromadb<0.5.0,>=0.4.22->crewai_tools==0.1.6) (1.2.0)\n",
      "Requirement already satisfied: clarifai-grpc>=10.11.2 in c:\\users\\ffarh\\appdata\\local\\programs\\python\\python311\\lib\\site-packages (from clarifai<11.0.0,>=10.0.1->embedchain<0.2.0,>=0.1.98->crewai==0.28.8) (11.8.2)\n",
      "Requirement already satisfied: clarifai-protocol>=0.0.14 in c:\\users\\ffarh\\appdata\\local\\programs\\python\\python311\\lib\\site-packages (from clarifai<11.0.0,>=10.0.1->embedchain<0.2.0,>=0.1.98->crewai==0.28.8) (0.0.14)\n",
      "Requirement already satisfied: tritonclient>=2.34.0 in c:\\users\\ffarh\\appdata\\local\\programs\\python\\python311\\lib\\site-packages (from clarifai<11.0.0,>=10.0.1->embedchain<0.2.0,>=0.1.98->crewai==0.28.8) (2.60.0)\n",
      "Requirement already satisfied: Pillow>=9.5.0 in c:\\users\\ffarh\\appdata\\local\\programs\\python\\python311\\lib\\site-packages (from clarifai<11.0.0,>=10.0.1->embedchain<0.2.0,>=0.1.98->crewai==0.28.8) (11.3.0)\n",
      "Requirement already satisfied: inquirerpy==0.3.4 in c:\\users\\ffarh\\appdata\\local\\programs\\python\\python311\\lib\\site-packages (from clarifai<11.0.0,>=10.0.1->embedchain<0.2.0,>=0.1.98->crewai==0.28.8) (0.3.4)\n",
      "Requirement already satisfied: tabulate>=0.9.0 in c:\\users\\ffarh\\appdata\\local\\programs\\python\\python311\\lib\\site-packages (from clarifai<11.0.0,>=10.0.1->embedchain<0.2.0,>=0.1.98->crewai==0.28.8) (0.9.0)\n",
      "Requirement already satisfied: fsspec==2024.6.1 in c:\\users\\ffarh\\appdata\\local\\programs\\python\\python311\\lib\\site-packages (from clarifai<11.0.0,>=10.0.1->embedchain<0.2.0,>=0.1.98->crewai==0.28.8) (2024.6.1)\n",
      "Requirement already satisfied: contextlib2>=0.5.5 in c:\\users\\ffarh\\appdata\\local\\programs\\python\\python311\\lib\\site-packages (from schema<0.8.0,>=0.7.5->embedchain<0.2.0,>=0.1.98->crewai==0.28.8) (21.6.0)\n",
      "Requirement already satisfied: pfzy<0.4.0,>=0.3.1 in c:\\users\\ffarh\\appdata\\local\\programs\\python\\python311\\lib\\site-packages (from inquirerpy==0.3.4->clarifai<11.0.0,>=10.0.1->embedchain<0.2.0,>=0.1.98->crewai==0.28.8) (0.3.4)\n",
      "Requirement already satisfied: prompt-toolkit<4.0.0,>=3.0.1 in c:\\users\\ffarh\\appdata\\roaming\\python\\python311\\site-packages (from inquirerpy==0.3.4->clarifai<11.0.0,>=10.0.1->embedchain<0.2.0,>=0.1.98->crewai==0.28.8) (3.0.51)\n",
      "Requirement already satisfied: starlette<0.48.0,>=0.40.0 in c:\\users\\ffarh\\appdata\\local\\programs\\python\\python311\\lib\\site-packages (from fastapi>=0.95.2->chromadb<0.5.0,>=0.4.22->crewai_tools==0.1.6) (0.47.2)\n",
      "Requirement already satisfied: gitdb<5,>=4.0.1 in c:\\users\\ffarh\\appdata\\local\\programs\\python\\python311\\lib\\site-packages (from gitpython<4.0.0,>=3.1.38->embedchain<0.2.0,>=0.1.98->crewai==0.28.8) (4.0.12)\n",
      "Requirement already satisfied: google-api-core[grpc]!=2.0.*,!=2.1.*,!=2.2.*,!=2.3.*,!=2.4.*,!=2.5.*,!=2.6.*,!=2.7.*,<3.0.0,>=1.34.1 in c:\\users\\ffarh\\appdata\\local\\programs\\python\\python311\\lib\\site-packages (from google-cloud-aiplatform<2.0.0,>=1.26.1->embedchain<0.2.0,>=0.1.98->crewai==0.28.8) (2.25.1)\n",
      "Requirement already satisfied: google-auth<3.0.0,>=2.14.1 in c:\\users\\ffarh\\appdata\\local\\programs\\python\\python311\\lib\\site-packages (from google-cloud-aiplatform<2.0.0,>=1.26.1->embedchain<0.2.0,>=0.1.98->crewai==0.28.8) (2.40.3)\n",
      "Requirement already satisfied: proto-plus<2.0.0,>=1.22.3 in c:\\users\\ffarh\\appdata\\local\\programs\\python\\python311\\lib\\site-packages (from google-cloud-aiplatform<2.0.0,>=1.26.1->embedchain<0.2.0,>=0.1.98->crewai==0.28.8) (1.26.1)\n",
      "Requirement already satisfied: google-cloud-storage<3.0.0,>=1.32.0 in c:\\users\\ffarh\\appdata\\local\\programs\\python\\python311\\lib\\site-packages (from google-cloud-aiplatform<2.0.0,>=1.26.1->embedchain<0.2.0,>=0.1.98->crewai==0.28.8) (2.19.0)\n",
      "Requirement already satisfied: google-cloud-bigquery!=3.20.0,<4.0.0,>=1.15.0 in c:\\users\\ffarh\\appdata\\local\\programs\\python\\python311\\lib\\site-packages (from google-cloud-aiplatform<2.0.0,>=1.26.1->embedchain<0.2.0,>=0.1.98->crewai==0.28.8) (3.30.0)\n",
      "Requirement already satisfied: google-cloud-resource-manager<3.0.0,>=1.3.3 in c:\\users\\ffarh\\appdata\\local\\programs\\python\\python311\\lib\\site-packages (from google-cloud-aiplatform<2.0.0,>=1.26.1->embedchain<0.2.0,>=0.1.98->crewai==0.28.8) (1.14.2)\n",
      "Requirement already satisfied: shapely<3.0.0 in c:\\users\\ffarh\\appdata\\local\\programs\\python\\python311\\lib\\site-packages (from google-cloud-aiplatform<2.0.0,>=1.26.1->embedchain<0.2.0,>=0.1.98->crewai==0.28.8) (2.1.1)\n",
      "Requirement already satisfied: google-genai<2.0.0,>=1.0.0 in c:\\users\\ffarh\\appdata\\local\\programs\\python\\python311\\lib\\site-packages (from google-cloud-aiplatform<2.0.0,>=1.26.1->embedchain<0.2.0,>=0.1.98->crewai==0.28.8) (1.38.0)\n",
      "Requirement already satisfied: httpcore==1.* in c:\\users\\ffarh\\appdata\\local\\programs\\python\\python311\\lib\\site-packages (from httpx<1,>=0.23.0->langsmith<0.2.0,>=0.1.0->langchain_community==0.0.29) (1.0.9)\n",
      "Requirement already satisfied: h11>=0.16 in c:\\users\\ffarh\\appdata\\local\\programs\\python\\python311\\lib\\site-packages (from httpcore==1.*->httpx<1,>=0.23.0->langsmith<0.2.0,>=0.1.0->langchain_community==0.0.29) (0.16.0)\n",
      "Requirement already satisfied: zipp>=3.20 in c:\\users\\ffarh\\appdata\\local\\programs\\python\\python311\\lib\\site-packages (from importlib-metadata<8.8.0,>=6.0->opentelemetry-api<2.0.0,>=1.22.0->crewai==0.28.8) (3.23.0)\n",
      "Requirement already satisfied: jsonpointer>=1.9 in c:\\users\\ffarh\\appdata\\local\\programs\\python\\python311\\lib\\site-packages (from jsonpatch<2.0,>=1.33->langchain<0.2.0,>=0.1.10->crewai==0.28.8) (3.0.0)\n",
      "Requirement already satisfied: six>=1.9.0 in c:\\users\\ffarh\\appdata\\roaming\\python\\python311\\site-packages (from kubernetes>=28.1.0->chromadb<0.5.0,>=0.4.22->crewai_tools==0.1.6) (1.17.0)\n",
      "Requirement already satisfied: python-dateutil>=2.5.3 in c:\\users\\ffarh\\appdata\\roaming\\python\\python311\\site-packages (from kubernetes>=28.1.0->chromadb<0.5.0,>=0.4.22->crewai_tools==0.1.6) (2.9.0.post0)\n",
      "Requirement already satisfied: requests-oauthlib in c:\\users\\ffarh\\appdata\\local\\programs\\python\\python311\\lib\\site-packages (from kubernetes>=28.1.0->chromadb<0.5.0,>=0.4.22->crewai_tools==0.1.6) (2.0.0)\n",
      "Requirement already satisfied: oauthlib>=3.2.2 in c:\\users\\ffarh\\appdata\\local\\programs\\python\\python311\\lib\\site-packages (from kubernetes>=28.1.0->chromadb<0.5.0,>=0.4.22->crewai_tools==0.1.6) (3.3.1)\n",
      "Requirement already satisfied: durationpy>=0.7 in c:\\users\\ffarh\\appdata\\local\\programs\\python\\python311\\lib\\site-packages (from kubernetes>=28.1.0->chromadb<0.5.0,>=0.4.22->crewai_tools==0.1.6) (0.10)\n",
      "Requirement already satisfied: cohere<6.0,>=5.5 in c:\\users\\ffarh\\appdata\\local\\programs\\python\\python311\\lib\\site-packages (from langchain-cohere<0.2.0,>=0.1.4->embedchain<0.2.0,>=0.1.98->crewai==0.28.8) (5.18.0)\n",
      "Requirement already satisfied: coloredlogs in c:\\users\\ffarh\\appdata\\local\\programs\\python\\python311\\lib\\site-packages (from onnxruntime>=1.14.1->chromadb<0.5.0,>=0.4.22->crewai_tools==0.1.6) (15.0.1)\n",
      "Requirement already satisfied: flatbuffers in c:\\users\\ffarh\\appdata\\local\\programs\\python\\python311\\lib\\site-packages (from onnxruntime>=1.14.1->chromadb<0.5.0,>=0.4.22->crewai_tools==0.1.6) (25.2.10)\n",
      "Requirement already satisfied: sympy in c:\\users\\ffarh\\appdata\\local\\programs\\python\\python311\\lib\\site-packages (from onnxruntime>=1.14.1->chromadb<0.5.0,>=0.4.22->crewai_tools==0.1.6) (1.14.0)\n",
      "Requirement already satisfied: opentelemetry-instrumentation-asgi==0.58b0 in c:\\users\\ffarh\\appdata\\local\\programs\\python\\python311\\lib\\site-packages (from opentelemetry-instrumentation-fastapi>=0.41b0->chromadb<0.5.0,>=0.4.22->crewai_tools==0.1.6) (0.58b0)\n",
      "Requirement already satisfied: opentelemetry-instrumentation==0.58b0 in c:\\users\\ffarh\\appdata\\local\\programs\\python\\python311\\lib\\site-packages (from opentelemetry-instrumentation-fastapi>=0.41b0->chromadb<0.5.0,>=0.4.22->crewai_tools==0.1.6) (0.58b0)\n",
      "Requirement already satisfied: opentelemetry-util-http==0.58b0 in c:\\users\\ffarh\\appdata\\local\\programs\\python\\python311\\lib\\site-packages (from opentelemetry-instrumentation-fastapi>=0.41b0->chromadb<0.5.0,>=0.4.22->crewai_tools==0.1.6) (0.58b0)\n",
      "Requirement already satisfied: wrapt<2.0.0,>=1.0.0 in c:\\users\\ffarh\\appdata\\local\\programs\\python\\python311\\lib\\site-packages (from opentelemetry-instrumentation==0.58b0->opentelemetry-instrumentation-fastapi>=0.41b0->chromadb<0.5.0,>=0.4.22->crewai_tools==0.1.6) (1.17.3)\n",
      "Requirement already satisfied: asgiref~=3.0 in c:\\users\\ffarh\\appdata\\local\\programs\\python\\python311\\lib\\site-packages (from opentelemetry-instrumentation-asgi==0.58b0->opentelemetry-instrumentation-fastapi>=0.41b0->chromadb<0.5.0,>=0.4.22->crewai_tools==0.1.6) (3.9.1)\n",
      "Requirement already satisfied: monotonic>=1.5 in c:\\users\\ffarh\\appdata\\local\\programs\\python\\python311\\lib\\site-packages (from posthog>=2.4.0->chromadb<0.5.0,>=0.4.22->crewai_tools==0.1.6) (1.6)\n",
      "Requirement already satisfied: backoff>=1.10.0 in c:\\users\\ffarh\\appdata\\local\\programs\\python\\python311\\lib\\site-packages (from posthog>=2.4.0->chromadb<0.5.0,>=0.4.22->crewai_tools==0.1.6) (2.2.1)\n",
      "Requirement already satisfied: deprecated in c:\\users\\ffarh\\appdata\\local\\programs\\python\\python311\\lib\\site-packages (from PyGithub<2.0.0,>=1.59.1->embedchain<0.2.0,>=0.1.98->crewai==0.28.8) (1.2.18)\n",
      "Requirement already satisfied: pyjwt[crypto]>=2.4.0 in c:\\users\\ffarh\\appdata\\local\\programs\\python\\python311\\lib\\site-packages (from PyGithub<2.0.0,>=1.59.1->embedchain<0.2.0,>=0.1.98->crewai==0.28.8) (2.10.1)\n",
      "Requirement already satisfied: pynacl>=1.4.0 in c:\\users\\ffarh\\appdata\\local\\programs\\python\\python311\\lib\\site-packages (from PyGithub<2.0.0,>=1.59.1->embedchain<0.2.0,>=0.1.98->crewai==0.28.8) (1.6.0)\n",
      "Requirement already satisfied: decorator>=3.4.2 in c:\\users\\ffarh\\appdata\\roaming\\python\\python311\\site-packages (from retry>=0.9.2->lancedb<0.6.0,>=0.5.4->crewai_tools==0.1.6) (5.2.1)\n",
      "Requirement already satisfied: py<2.0.0,>=1.4.26 in c:\\users\\ffarh\\appdata\\local\\programs\\python\\python311\\lib\\site-packages (from retry>=0.9.2->lancedb<0.6.0,>=0.5.4->crewai_tools==0.1.6) (1.11.0)\n",
      "Requirement already satisfied: markdown-it-py>=2.2.0 in c:\\users\\ffarh\\appdata\\local\\programs\\python\\python311\\lib\\site-packages (from rich<14.0.0,>=13.7.0->embedchain<0.2.0,>=0.1.98->crewai==0.28.8) (3.0.0)\n",
      "Requirement already satisfied: huggingface-hub<1.0,>=0.16.4 in c:\\users\\ffarh\\appdata\\local\\programs\\python\\python311\\lib\\site-packages (from tokenizers>=0.13.2->chromadb<0.5.0,>=0.4.22->crewai_tools==0.1.6) (0.34.3)\n",
      "Requirement already satisfied: sortedcontainers in c:\\users\\ffarh\\appdata\\local\\programs\\python\\python311\\lib\\site-packages (from trio~=0.30.0->selenium<5.0.0,>=4.18.1->crewai_tools==0.1.6) (2.4.0)\n",
      "Requirement already satisfied: outcome in c:\\users\\ffarh\\appdata\\local\\programs\\python\\python311\\lib\\site-packages (from trio~=0.30.0->selenium<5.0.0,>=4.18.1->crewai_tools==0.1.6) (1.3.0.post0)\n",
      "Requirement already satisfied: cffi>=1.14 in c:\\users\\ffarh\\appdata\\local\\programs\\python\\python311\\lib\\site-packages (from trio~=0.30.0->selenium<5.0.0,>=4.18.1->crewai_tools==0.1.6) (2.0.0)\n",
      "Requirement already satisfied: wsproto>=0.14 in c:\\users\\ffarh\\appdata\\local\\programs\\python\\python311\\lib\\site-packages (from trio-websocket~=0.12.2->selenium<5.0.0,>=4.18.1->crewai_tools==0.1.6) (1.2.0)\n",
      "Requirement already satisfied: mypy-extensions>=0.3.0 in c:\\users\\ffarh\\appdata\\local\\programs\\python\\python311\\lib\\site-packages (from typing-inspect<1,>=0.4.0->dataclasses-json<0.7,>=0.5.7->langchain_community==0.0.29) (1.1.0)\n",
      "Requirement already satisfied: pysocks!=1.5.7,<2.0,>=1.5.6 in c:\\users\\ffarh\\appdata\\local\\programs\\python\\python311\\lib\\site-packages (from urllib3<3,>=1.21.1->requests<3.0.0,>=2.31.0->crewai_tools==0.1.6) (1.7.1)\n",
      "Requirement already satisfied: httptools>=0.6.3 in c:\\users\\ffarh\\appdata\\local\\programs\\python\\python311\\lib\\site-packages (from uvicorn[standard]>=0.18.3->chromadb<0.5.0,>=0.4.22->crewai_tools==0.1.6) (0.6.4)\n",
      "Requirement already satisfied: watchfiles>=0.13 in c:\\users\\ffarh\\appdata\\local\\programs\\python\\python311\\lib\\site-packages (from uvicorn[standard]>=0.18.3->chromadb<0.5.0,>=0.4.22->crewai_tools==0.1.6) (1.1.0)\n",
      "Requirement already satisfied: websockets>=10.4 in c:\\users\\ffarh\\appdata\\local\\programs\\python\\python311\\lib\\site-packages (from uvicorn[standard]>=0.18.3->chromadb<0.5.0,>=0.4.22->crewai_tools==0.1.6) (15.0.1)\n",
      "Requirement already satisfied: defusedxml<0.8.0,>=0.7.1 in c:\\users\\ffarh\\appdata\\local\\programs\\python\\python311\\lib\\site-packages (from youtube-transcript-api<0.7.0,>=0.6.1->embedchain<0.2.0,>=0.1.98->crewai==0.28.8) (0.7.1)\n",
      "Requirement already satisfied: mutagen in c:\\users\\ffarh\\appdata\\local\\programs\\python\\python311\\lib\\site-packages (from yt_dlp<2024.0.0,>=2023.11.14->embedchain<0.2.0,>=0.1.98->crewai==0.28.8) (1.47.0)\n",
      "Requirement already satisfied: pycryptodomex in c:\\users\\ffarh\\appdata\\local\\programs\\python\\python311\\lib\\site-packages (from yt_dlp<2024.0.0,>=2023.11.14->embedchain<0.2.0,>=0.1.98->crewai==0.28.8) (3.23.0)\n",
      "Requirement already satisfied: brotli in c:\\users\\ffarh\\appdata\\local\\programs\\python\\python311\\lib\\site-packages (from yt_dlp<2024.0.0,>=2023.11.14->embedchain<0.2.0,>=0.1.98->crewai==0.28.8) (1.1.0)\n",
      "Requirement already satisfied: pycparser in c:\\users\\ffarh\\appdata\\local\\programs\\python\\python311\\lib\\site-packages (from cffi>=1.14->trio~=0.30.0->selenium<5.0.0,>=4.18.1->crewai_tools==0.1.6) (2.23)\n",
      "Requirement already satisfied: fastavro<2.0.0,>=1.9.4 in c:\\users\\ffarh\\appdata\\local\\programs\\python\\python311\\lib\\site-packages (from cohere<6.0,>=5.5->langchain-cohere<0.2.0,>=0.1.4->embedchain<0.2.0,>=0.1.98->crewai==0.28.8) (1.12.0)\n",
      "Requirement already satisfied: httpx-sse==0.4.0 in c:\\users\\ffarh\\appdata\\local\\programs\\python\\python311\\lib\\site-packages (from cohere<6.0,>=5.5->langchain-cohere<0.2.0,>=0.1.4->embedchain<0.2.0,>=0.1.98->crewai==0.28.8) (0.4.0)\n",
      "Requirement already satisfied: types-requests<3.0.0,>=2.0.0 in c:\\users\\ffarh\\appdata\\local\\programs\\python\\python311\\lib\\site-packages (from cohere<6.0,>=5.5->langchain-cohere<0.2.0,>=0.1.4->embedchain<0.2.0,>=0.1.98->crewai==0.28.8) (2.32.4.20250913)\n",
      "Requirement already satisfied: smmap<6,>=3.0.1 in c:\\users\\ffarh\\appdata\\local\\programs\\python\\python311\\lib\\site-packages (from gitdb<5,>=4.0.1->gitpython<4.0.0,>=3.1.38->embedchain<0.2.0,>=0.1.98->crewai==0.28.8) (5.0.2)\n",
      "Requirement already satisfied: grpcio-status<2.0.0,>=1.33.2 in c:\\users\\ffarh\\appdata\\local\\programs\\python\\python311\\lib\\site-packages (from google-api-core[grpc]!=2.0.*,!=2.1.*,!=2.2.*,!=2.3.*,!=2.4.*,!=2.5.*,!=2.6.*,!=2.7.*,<3.0.0,>=1.34.1->google-cloud-aiplatform<2.0.0,>=1.26.1->embedchain<0.2.0,>=0.1.98->crewai==0.28.8) (1.75.0)\n",
      "Requirement already satisfied: pyasn1-modules>=0.2.1 in c:\\users\\ffarh\\appdata\\local\\programs\\python\\python311\\lib\\site-packages (from google-auth<3.0.0,>=2.14.1->google-cloud-aiplatform<2.0.0,>=1.26.1->embedchain<0.2.0,>=0.1.98->crewai==0.28.8) (0.4.2)\n",
      "Requirement already satisfied: rsa<5,>=3.1.4 in c:\\users\\ffarh\\appdata\\local\\programs\\python\\python311\\lib\\site-packages (from google-auth<3.0.0,>=2.14.1->google-cloud-aiplatform<2.0.0,>=1.26.1->embedchain<0.2.0,>=0.1.98->crewai==0.28.8) (4.9.1)\n",
      "Requirement already satisfied: google-cloud-core<3.0.0dev,>=2.4.1 in c:\\users\\ffarh\\appdata\\local\\programs\\python\\python311\\lib\\site-packages (from google-cloud-bigquery!=3.20.0,<4.0.0,>=1.15.0->google-cloud-aiplatform<2.0.0,>=1.26.1->embedchain<0.2.0,>=0.1.98->crewai==0.28.8) (2.4.3)\n",
      "Requirement already satisfied: google-resumable-media<3.0dev,>=2.0.0 in c:\\users\\ffarh\\appdata\\local\\programs\\python\\python311\\lib\\site-packages (from google-cloud-bigquery!=3.20.0,<4.0.0,>=1.15.0->google-cloud-aiplatform<2.0.0,>=1.26.1->embedchain<0.2.0,>=0.1.98->crewai==0.28.8) (2.7.2)\n",
      "Requirement already satisfied: grpc-google-iam-v1<1.0.0,>=0.14.0 in c:\\users\\ffarh\\appdata\\local\\programs\\python\\python311\\lib\\site-packages (from google-cloud-resource-manager<3.0.0,>=1.3.3->google-cloud-aiplatform<2.0.0,>=1.26.1->embedchain<0.2.0,>=0.1.98->crewai==0.28.8) (0.14.2)\n",
      "Requirement already satisfied: google-crc32c<2.0dev,>=1.0 in c:\\users\\ffarh\\appdata\\local\\programs\\python\\python311\\lib\\site-packages (from google-cloud-storage<3.0.0,>=1.32.0->google-cloud-aiplatform<2.0.0,>=1.26.1->embedchain<0.2.0,>=0.1.98->crewai==0.28.8) (1.7.1)\n",
      "Requirement already satisfied: filelock in c:\\users\\ffarh\\appdata\\local\\programs\\python\\python311\\lib\\site-packages (from huggingface-hub<1.0,>=0.16.4->tokenizers>=0.13.2->chromadb<0.5.0,>=0.4.22->crewai_tools==0.1.6) (3.18.0)\n",
      "Requirement already satisfied: mdurl~=0.1 in c:\\users\\ffarh\\appdata\\local\\programs\\python\\python311\\lib\\site-packages (from markdown-it-py>=2.2.0->rich<14.0.0,>=13.7.0->embedchain<0.2.0,>=0.1.98->crewai==0.28.8) (0.1.2)\n",
      "Requirement already satisfied: cryptography>=3.4.0 in c:\\users\\ffarh\\appdata\\local\\programs\\python\\python311\\lib\\site-packages (from pyjwt[crypto]>=2.4.0->PyGithub<2.0.0,>=1.59.1->embedchain<0.2.0,>=0.1.98->crewai==0.28.8) (46.0.1)\n",
      "Requirement already satisfied: python-rapidjson>=0.9.1 in c:\\users\\ffarh\\appdata\\local\\programs\\python\\python311\\lib\\site-packages (from tritonclient>=2.34.0->clarifai<11.0.0,>=10.0.1->embedchain<0.2.0,>=0.1.98->crewai==0.28.8) (1.21)\n",
      "Requirement already satisfied: humanfriendly>=9.1 in c:\\users\\ffarh\\appdata\\local\\programs\\python\\python311\\lib\\site-packages (from coloredlogs->onnxruntime>=1.14.1->chromadb<0.5.0,>=0.4.22->crewai_tools==0.1.6) (10.0)\n",
      "Requirement already satisfied: MarkupSafe>=0.9.2 in c:\\users\\ffarh\\appdata\\local\\programs\\python\\python311\\lib\\site-packages (from Mako->alembic<2.0.0,>=1.13.1->embedchain<0.2.0,>=0.1.98->crewai==0.28.8) (3.0.2)\n",
      "Requirement already satisfied: mpmath<1.4,>=1.1.0 in c:\\users\\ffarh\\appdata\\local\\programs\\python\\python311\\lib\\site-packages (from sympy->onnxruntime>=1.14.1->chromadb<0.5.0,>=0.4.22->crewai_tools==0.1.6) (1.3.0)\n",
      "Requirement already satisfied: pyreadline3 in c:\\users\\ffarh\\appdata\\local\\programs\\python\\python311\\lib\\site-packages (from humanfriendly>=9.1->coloredlogs->onnxruntime>=1.14.1->chromadb<0.5.0,>=0.4.22->crewai_tools==0.1.6) (3.5.4)\n",
      "Requirement already satisfied: wcwidth in c:\\users\\ffarh\\appdata\\roaming\\python\\python311\\site-packages (from prompt-toolkit<4.0.0,>=3.0.1->inquirerpy==0.3.4->clarifai<11.0.0,>=10.0.1->embedchain<0.2.0,>=0.1.98->crewai==0.28.8) (0.2.13)\n",
      "Requirement already satisfied: pyasn1<0.7.0,>=0.6.1 in c:\\users\\ffarh\\appdata\\local\\programs\\python\\python311\\lib\\site-packages (from pyasn1-modules>=0.2.1->google-auth<3.0.0,>=2.14.1->google-cloud-aiplatform<2.0.0,>=1.26.1->embedchain<0.2.0,>=0.1.98->crewai==0.28.8) (0.6.1)\n",
      "Installing collected packages: numpy\n",
      "  Attempting uninstall: numpy\n",
      "    Found existing installation: numpy 2.2.6\n",
      "    Uninstalling numpy-2.2.6:\n",
      "      Successfully uninstalled numpy-2.2.6\n",
      "Successfully installed numpy-1.26.4\n"
     ]
    },
    {
     "name": "stderr",
     "output_type": "stream",
     "text": [
      "ERROR: pip's dependency resolver does not currently take into account all the packages that are installed. This behaviour is the source of the following dependency conflicts.\n",
      "gradio 5.39.0 requires typer<1.0,>=0.12; sys_platform != \"emscripten\", but you have typer 0.9.4 which is incompatible.\n",
      "opencv-python 4.12.0.88 requires numpy<2.3.0,>=2; python_version >= \"3.9\", but you have numpy 1.26.4 which is incompatible.\n",
      "\n",
      "[notice] A new release of pip available: 22.3 -> 25.2\n",
      "[notice] To update, run: python.exe -m pip install --upgrade pip\n"
     ]
    }
   ],
   "source": [
    "!pip install crewai==0.28.8 crewai_tools==0.1.6 langchain_community==0.0.29"
   ]
  },
  {
   "cell_type": "code",
   "execution_count": 2,
   "metadata": {
    "id": "97_QEvgMNF1T"
   },
   "outputs": [],
   "source": [
    "# Warning control\n",
    "import warnings\n",
    "warnings.filterwarnings('ignore')"
   ]
  },
  {
   "cell_type": "code",
   "execution_count": 3,
   "metadata": {
    "id": "BTVwsUcmNJEo"
   },
   "outputs": [],
   "source": [
    "from crewai import Agent, Task, Crew"
   ]
  },
  {
   "cell_type": "code",
   "execution_count": 4,
   "metadata": {
    "id": "BB36MJY0NPBi"
   },
   "outputs": [],
   "source": [
    "import os\n",
    "\n",
    "# Directly set your API key and model\n",
    "os.environ[\"OPENAI_API_KEY\"] = \"your_openai_api_key_here\"\n",
    "os.environ[\"OPENAI_MODEL_NAME\"] = \"gpt-4o-mini\"  # Use a valid model ID"
   ]
  },
  {
   "cell_type": "code",
   "execution_count": 5,
   "metadata": {
    "id": "4EwEQV-SNzxk"
   },
   "outputs": [],
   "source": [
    "support_agent = Agent(\n",
    "    role=\"Senior Support Representative\",\n",
    "\tgoal=\"Be the most friendly and helpful \"\n",
    "        \"support representative in your team\",\n",
    "\tbackstory=(\n",
    "\t\t\"You work at John Deere(https://www.deere.co.in/) and \"\n",
    "        \" are now working on providing \"\n",
    "\t\t\"support to {customer}, a prospective customer \"\n",
    "        \" for your company.\"\n",
    "\t\t\"You need to make sure that you provide the best support!\"\n",
    "\t\t\"Make sure to provide full complete answers, \"\n",
    "        \" and make no assumptions.\"\n",
    "\t),\n",
    "\tallow_delegation=False,\n",
    "\tverbose=True\n",
    ")"
   ]
  },
  {
   "cell_type": "markdown",
   "metadata": {
    "id": "zyFpJQ2bQrmM"
   },
   "source": [
    "By not setting allow_delegation=False, allow_delegation takes its default value of being True.\n",
    "This means the agent can delegate its work to another agent which is better suited to do a particular task."
   ]
  },
  {
   "cell_type": "code",
   "execution_count": 6,
   "metadata": {
    "id": "LAsQwnxwQh7B"
   },
   "outputs": [],
   "source": [
    "support_quality_assurance_agent = Agent(\n",
    "\trole=\"Support Quality Assurance Specialist\",\n",
    "\tgoal=\"Get recognition for providing the \"\n",
    "    \"best support quality assurance in your team\",\n",
    "\tbackstory=(\n",
    "\t\t\"You work at John Deere (https://www.deere.co.in/) and \"\n",
    "        \"are now working with your team \"\n",
    "\t\t\"on a request from {customer} ensuring that \"\n",
    "        \"the support representative is \"\n",
    "\t\t\"providing the best support possible.\\n\"\n",
    "\t\t\"You need to make sure that the support representative \"\n",
    "        \"is providing full\"\n",
    "\t\t\"complete answers, and make no assumptions.\"\n",
    "\t),\n",
    "\tverbose=True\n",
    ")"
   ]
  },
  {
   "cell_type": "markdown",
   "metadata": {
    "id": "5W2I8IlgRVCd"
   },
   "source": [
    "Role Playing: Both agents have been given a role, goal and backstory.\n",
    "Focus: Both agents have been prompted to get into the character of the roles they are playing.\n",
    "Cooperation: Support Quality Assurance Agent can delegate work back to the Support Agent, allowing for these agents to work together."
   ]
  },
  {
   "cell_type": "markdown",
   "metadata": {
    "id": "KFk2c77yRorw"
   },
   "source": [
    "**Tools, Guardrails and Memory**\n",
    "\n",
    "**Tools**\n",
    "\n",
    "Import CrewAI tools"
   ]
  },
  {
   "cell_type": "code",
   "execution_count": 7,
   "metadata": {
    "id": "dcaRPMeqRPIY"
   },
   "outputs": [],
   "source": [
    "from crewai_tools import SerperDevTool, ScrapeWebsiteTool, WebsiteSearchTool\n",
    "#  for documentation https://docs.crewai.com/en/introduction\n",
    "#  for scapewebsite https://docs.crewai.com/en/tools/web-scraping/scrapewebsitetool\n",
    "# This scrape website and employs RAG over it\n",
    "# For creating custome tools https://docs.crewai.com/en/learn/create-custom-tools\n",
    "# Source Code Github Link https://github.com/crewAIInc/crewAI-tools"
   ]
  },
  {
   "cell_type": "markdown",
   "metadata": {
    "id": "b0fVq-9mSEnT"
   },
   "source": [
    "*Possible Custom Tools*\n",
    "\n",
    "Load customer data\n",
    "\n",
    "Tap into previous conversations\n",
    "\n",
    "Load data from a CRM\n",
    "\n",
    "Checking existing bug reports\n",
    "\n",
    "Checking existing feature requests\n",
    "\n",
    "Checking ongoing tickets\n",
    "\n",
    "... and more"
   ]
  },
  {
   "cell_type": "markdown",
   "metadata": {
    "id": "URTmnGszSXtW"
   },
   "source": [
    "Some ways of using CrewAI tools.\n",
    "\n",
    "search_tool = SerperDevTool()\n",
    "\n",
    "scrape_tool = ScrapeWebsiteTool()"
   ]
  },
  {
   "cell_type": "markdown",
   "metadata": {
    "id": "ZObCwvfISacV"
   },
   "source": [
    "In case You want to scrape only one Url, you can provide Url Link as argument otherwise entire website will be scraped"
   ]
  },
  {
   "cell_type": "code",
   "execution_count": 8,
   "metadata": {
    "id": "MZoT3mbNR_Li"
   },
   "outputs": [],
   "source": [
    "docs_scrape_tool = ScrapeWebsiteTool(url=\"https://www.deere.co.in/en/tractors/\")"
   ]
  },
  {
   "cell_type": "markdown",
   "metadata": {
    "id": "SeWl32IVXC81"
   },
   "source": [
    "Different Ways to Give Agents Tools\n",
    "\n",
    "Agent Level: The Agent can use the Tool(s) on any Task it performs.\n",
    "\n",
    "Task Level: The Agent will only use the Tool(s) when performing that specific Task.\n",
    "\n",
    "Note: Task Tools override the Agent Tools.\n",
    "\n",
    "\n",
    "Creating Tasks\n",
    "\n",
    "You are passing the Tool on the Task Level."
   ]
  },
  {
   "cell_type": "code",
   "execution_count": 9,
   "metadata": {
    "id": "3EjgbihuXE5F"
   },
   "outputs": [],
   "source": [
    "inquiry_resolution = Task(\n",
    "    description=(\n",
    "        \"{customer} just reached out with  important query:\\n\"\n",
    "\t    \"{inquiry}\\n\\n\"\n",
    "        \"{person} from {customer} is the one that reached out. \"\n",
    "\t\t\"Make sure to use everything you know \"\n",
    "        \"to provide the best support possible.\"\n",
    "\t\t\"You must strive to provide a complete \"\n",
    "        \"and accurate response to the customer's inquiry.\"\n",
    "    ),\n",
    "    expected_output=(\n",
    "\t    \"A detailed, informative response to the \"\n",
    "        \"customer's inquiry that addresses \"\n",
    "        \"all aspects of their question.\\n\"\n",
    "        \"The response should include references \"\n",
    "        \"to everything you used to find the answer, \"\n",
    "        \"including external data or solutions. \"\n",
    "        \"Ensure the answer is complete, \"\n",
    "\t\t\"leaving no questions unanswered, and maintain a helpful and friendly \"\n",
    "\t\t\"tone throughout.\"\n",
    "    ),\n",
    "\ttools=[docs_scrape_tool],\n",
    "    agent=support_agent,\n",
    ")"
   ]
  },
  {
   "cell_type": "markdown",
   "metadata": {
    "id": "aDji4-WCXwAD"
   },
   "source": [
    "quality_assurance_review is not using any Tool(s)\n",
    "\n",
    "Here the QA Agent will only review the work of the Support Agent"
   ]
  },
  {
   "cell_type": "code",
   "execution_count": 10,
   "metadata": {
    "id": "Jpi6ZsNqXra2"
   },
   "outputs": [],
   "source": [
    "quality_assurance_review = Task(\n",
    "    description=(\n",
    "        \"Review the response drafted by the Senior Support Representative for {customer}'s inquiry. \"\n",
    "        \"Ensure that the answer is  accurate, and adheres to the \"\n",
    "\t\t\"high-quality standards expected for customer support.\\n\"\n",
    "        \"Verify that all parts of the customer's inquiry \"\n",
    "        \"have been addressed \"\n",
    "\t\t\"thoroughly, with a helpful and friendly tone.\\n\"\n",
    "        \"Check for references and sources used to \"\n",
    "        \" find the information, \"\n",
    "\t\t\"ensuring the response is well-supported and \"\n",
    "        \"leaves no questions unanswered.\"\n",
    "    ),\n",
    "    expected_output=(\n",
    "        \"A final, short and informative response \"\n",
    "        \"ready to be sent to the customer.\\n\"\n",
    "        \"This response should fully address the \"\n",
    "        \"customer's inquiry, incorporating all \"\n",
    "\t\t\"relevant feedback and improvements.\\n\"\n",
    "\t\t\"Don't be too formal, we are a chill and cool company \"\n",
    "\t    \"but maintain a professional and friendly tone throughout.\"\n",
    "    ),\n",
    "    agent=support_quality_assurance_agent,\n",
    ")\n"
   ]
  },
  {
   "cell_type": "markdown",
   "metadata": {
    "id": "gl-ys61pYNMe"
   },
   "source": [
    "Creating the Crew\n",
    "\n",
    "Memory\n",
    "\n",
    "Setting memory=True when putting the crew together enables Memory."
   ]
  },
  {
   "cell_type": "code",
   "execution_count": 11,
   "metadata": {
    "id": "LPdPB-2-YPz5"
   },
   "outputs": [],
   "source": [
    "crew = Crew(\n",
    "  agents=[support_agent, support_quality_assurance_agent],\n",
    "  tasks=[inquiry_resolution, quality_assurance_review],\n",
    "  verbose=1,\n",
    "  memory=True\n",
    ")"
   ]
  },
  {
   "cell_type": "markdown",
   "metadata": {
    "id": "SvfuYaX-Ye3o"
   },
   "source": [
    "Running the Crew\n",
    "\n",
    "Note: LLMs can provide different outputs for they same input, so what you\n",
    "\n",
    "get might be different than what you see here.\n",
    "\n",
    "Guardrails\n",
    "\n",
    "By running the execution below, you can see that the agents and the\n",
    "responses are within the scope of what we expect from them."
   ]
  },
  {
   "cell_type": "code",
   "execution_count": null,
   "metadata": {
    "colab": {
     "base_uri": "https://localhost:8080/"
    },
    "collapsed": true,
    "executionInfo": {
     "elapsed": 219630,
     "status": "ok",
     "timestamp": 1755675901604,
     "user": {
      "displayName": "Farhan Khan",
      "userId": "15469157280639804773"
     },
     "user_tz": -330
    },
    "id": "KOm_DT4sYXnI",
    "outputId": "b813fb20-7fd3-439c-f83d-cf6ea5c93536"
   },
   "outputs": [],
   "source": [
    "#  inquiry 1\n",
    "inputs = {\n",
    "    \"customer\": \"A progressive farmer from Hoshiarpur (≈12 acres, partly hilly)\",\n",
    "    \"person\": \"Bakhtawar Singh\",\n",
    "    \"inquiry\": (\n",
    "        \"Sat Sri Akal. I need a tractor with strong low-end torque, good mileage, and reliable braking on slopes. \"\n",
    "        \"I’ll use a 6-ft gyrovator/rotavator, a trolley for produce, and sometimes a reversible plough. \"\n",
    "        \"Please suggest suitable models and the right HP range, plus tyre size/pressure and front ballast for hilly terrain. \"\n",
    "        \"Also share service intervals, warranty, and nearby dealer guidance. Budget ≈ ₹7–9 lakh (ex-showroom).\"\n",
    "    )\n",
    "}\n",
    "\n",
    "result = crew.kickoff(inputs=inputs)"
   ]
  },
  {
   "cell_type": "code",
   "execution_count": null,
   "metadata": {
    "colab": {
     "base_uri": "https://localhost:8080/",
     "height": 908
    },
    "collapsed": true,
    "executionInfo": {
     "elapsed": 82,
     "status": "ok",
     "timestamp": 1755676325110,
     "user": {
      "displayName": "Farhan Khan",
      "userId": "15469157280639804773"
     },
     "user_tz": -330
    },
    "id": "uE_dbjpqdqKd",
    "outputId": "196dde16-b417-4938-a365-eedd7bb84a2a"
   },
   "outputs": [],
   "source": [
    "from IPython.display import Markdown\n",
    "Markdown(result)"
   ]
  },
  {
   "cell_type": "code",
   "execution_count": null,
   "metadata": {
    "id": "MxiDwJAFd_GW"
   },
   "outputs": [],
   "source": [
    "# A small bank of realistic test inputs (use one at a time with crew.kickoff), do not run\n",
    "test_inputs = [\n",
    "    {\n",
    "        \"customer\": \"Pathankot farmer (clay-loam, hilly patches)\",\n",
    "        \"person\": \"Harpreet Singh\",\n",
    "        \"inquiry\": (\n",
    "            \"Fields have undulating terrain and clay-loam soil. Need high torque at low RPM and good mileage. \"\n",
    "            \"Can I run a 6-ft gyrovator and a potato digger safely on slopes? Recommend HP range and specific models.\"\n",
    "        ),\n",
    "    },\n",
    "    {\n",
    "        \"customer\": \"Kandi belt grower (prefers 4WD)\",\n",
    "        \"person\": \"Gurjit Kaur\",\n",
    "        \"inquiry\": (\n",
    "            \"Looking for a 4WD tractor for hillside work. Which is better for slopes—synchro vs constant-mesh gearbox—and why? \"\n",
    "            \"Please suggest HP and models that balance control and fuel efficiency.\"\n",
    "        ),\n",
    "    },\n",
    "    {\n",
    "        \"customer\": \"Mixed transport + field use (≈60/40)\",\n",
    "        \"person\": \"Jaspreet\",\n",
    "        \"inquiry\": (\n",
    "            \"Daily mandi runs (~20 km) plus rotavator work. Need mileage and comfort. \"\n",
    "            \"Which tyres (radial vs bias) and recommended PSI for hills? Suggest suitable models.\"\n",
    "        ),\n",
    "    },\n",
    "    {\n",
    "        \"customer\": \"Budget-focused buyer (≤ ₹8 lakh)\",\n",
    "        \"person\": \"Manpreet\",\n",
    "        \"inquiry\": (\n",
    "            \"Under ₹8 lakh, prefer power steering, dual clutch, oil-immersed brakes. \"\n",
    "            \"Will it safely pull a 1.5-ton trolley uphill? Recommend models and HP.\"\n",
    "        ),\n",
    "    },\n",
    "    {\n",
    "        \"customer\": \"10-acre maize+wheat, gentle slopes\",\n",
    "        \"person\": \"Balwinder\",\n",
    "        \"inquiry\": (\n",
    "            \"Confused between 45–50 HP vs 50–55 HP for a 5-ft rotavator on slopes. \"\n",
    "            \"Which option is more fuel-efficient while maintaining implement performance?\"\n",
    "        ),\n",
    "    },\n",
    "    {\n",
    "        \"customer\": \"Implement compatibility check\",\n",
    "        \"person\": \"Ravneet\",\n",
    "        \"inquiry\": (\n",
    "            \"Need to run a reversible MB plough and 7-tyne cultivator. \"\n",
    "            \"What PTO HP is required, and do you have models with economy PTO for fuel saving on light loads?\"\n",
    "        ),\n",
    "    },\n",
    "    {\n",
    "        \"customer\": \"Service availability (Gurdaspur)\",\n",
    "        \"person\": \"Amandeep\",\n",
    "        \"inquiry\": (\n",
    "            \"What is service and parts availability like near Gurdaspur? \"\n",
    "            \"Estimate annual maintenance cost for ~500 hours and recommended service intervals.\"\n",
    "        ),\n",
    "    },\n",
    "    {\n",
    "        \"customer\": \"Hillside stability & safety\",\n",
    "        \"person\": \"Sukhdeep\",\n",
    "        \"inquiry\": (\n",
    "            \"For a 6-ft gyrovator on slopes, how much front ballast is recommended? \"\n",
    "            \"Any roll-over safety features or guidelines I should follow?\"\n",
    "        ),\n",
    "    },\n",
    "    {\n",
    "        \"customer\": \"Hydraulics & control on uneven fields\",\n",
    "        \"person\": \"Kamal\",\n",
    "        \"inquiry\": (\n",
    "            \"What lift capacity and hydraulic controls (draft/position) are required for a 6-ft gyrovator and a small baler? \"\n",
    "            \"Suggest models suited to uneven fields.\"\n",
    "        ),\n",
    "    },\n",
    "    {\n",
    "        \"customer\": \"Road speed vs fuel burn\",\n",
    "        \"person\": \"Hardeep\",\n",
    "        \"inquiry\": (\n",
    "            \"My mix is 60% transport, 40% field. I want road speed without high fuel burn. \"\n",
    "            \"Any models with 12F+4R or creeper options that still work well on hills?\"\n",
    "        ),\n",
    "    },\n",
    "    {\n",
    "        \"customer\": \"Cold-start & electrics\",\n",
    "        \"person\": \"Daljeet\",\n",
    "        \"inquiry\": (\n",
    "            \"Winters get cold. Which features help with easy starts? \"\n",
    "            \"Battery/alternator specs to support a sprayer pump and lights?\"\n",
    "        ),\n",
    "    },\n",
    "    {\n",
    "        \"customer\": \"Terrace fields maneuverability\",\n",
    "        \"person\": \"Navdeep\",\n",
    "        \"inquiry\": (\n",
    "            \"Need compact turning radius and good ground clearance for terrace fields. \"\n",
    "            \"Share models/specs and tyre recommendations.\"\n",
    "        ),\n",
    "    },\n",
    "    {\n",
    "        \"customer\": \"Finance & warranty clarity\",\n",
    "        \"person\": \"Kiran\",\n",
    "        \"inquiry\": (\n",
    "            \"What finance options and typical down payment are available? \"\n",
    "            \"Detail warranty coverage for clutch and hydraulic pump, please.\"\n",
    "        ),\n",
    "    },\n",
    "    {\n",
    "        \"customer\": \"Hitch category & brands\",\n",
    "        \"person\": \"Amrik\",\n",
    "        \"inquiry\": (\n",
    "            \"Which hitch category (Cat-I vs Cat-II) should I get, and which gyrovator brands/sizes are tested compatible?\"\n",
    "        ),\n",
    "    },\n",
    "    {\n",
    "        \"customer\": \"Hilly duty maintenance plan\",\n",
    "        \"person\": \"Simran\",\n",
    "        \"inquiry\": (\n",
    "            \"Recommend service intervals for hilly duty cycles. \"\n",
    "            \"Any AMC packages with doorstep service I can opt into?\"\n",
    "        ),\n",
    "    },\n",
    "]\n"
   ]
  },
  {
   "cell_type": "code",
   "execution_count": null,
   "metadata": {
    "id": "m8NKVSfIeDAF"
   },
   "outputs": [],
   "source": [
    "# Two vernacular realism tests (same format)\n",
    "inputs_hinglish = {\n",
    "    \"customer\": \"Hoshiarpur farmer (pahaadi patches)\",\n",
    "    \"person\": \"Bakhtawar Singh\",\n",
    "    \"inquiry\": (\n",
    "        \"Bhai, thoda pahaadi area hai. 45–50 HP 4WD chahiye jo 6-ft gyrovator easily chala le aur fuel ka kharcha kam ho. \"\n",
    "        \"Kaun-sa model lena chahiye, tyre size/pressure aur front weight kitna rakhun?\"\n",
    "    ),\n",
    "}\n",
    "\n",
    "inputs_punjabi = {\n",
    "    \"customer\": \"ਪਹਾੜੀ ਇਲਾਕਾ (Hoshiarpur)\",\n",
    "    \"person\": \"ਬਖ਼ਤਾਵਰ ਸਿੰਘ\",\n",
    "    \"inquiry\": (\n",
    "        \"ਸਤ ਸ੍ਰੀ ਅਕਾਲ। 4WD ਟਰੈਕਟਰ ਚਾਹੀਦਾ ਜੋ ਮਾਈਲੇਜ ਵਧੀਆ ਦੇਵੇ ਤੇ ਢਲਾਣਾਂ ’ਚ ਸੇਫ ਹੋਵੇ। \"\n",
    "        \"6 ਫੁੱਟ ਰੋਟਾਵੇਟਰ ਚੱਲੇਗਾ? HP, ਟਾਇਰ ਸੈੱਟਅੱਪ ਤੇ ਫਰੰਟ ਵੇਟ ਦੱਸੋ ਜੀ।\"\n",
    "    ),\n",
    "}\n"
   ]
  }
 ],
 "metadata": {
  "colab": {
   "authorship_tag": "ABX9TyOIR3yKi7HnW5aKGr58HHov",
   "provenance": []
  },
  "kernelspec": {
   "display_name": "Python 3",
   "name": "python3"
  },
  "language_info": {
   "codemirror_mode": {
    "name": "ipython",
    "version": 3
   },
   "file_extension": ".py",
   "mimetype": "text/x-python",
   "name": "python",
   "nbconvert_exporter": "python",
   "pygments_lexer": "ipython3",
   "version": "3.11.0"
  }
 },
 "nbformat": 4,
 "nbformat_minor": 0
}
